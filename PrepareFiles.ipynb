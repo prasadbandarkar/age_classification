{
 "cells": [
  {
   "cell_type": "markdown",
   "metadata": {},
   "source": [
    "# Classifying faces using Convolutional neural networks"
   ]
  },
  {
   "cell_type": "markdown",
   "metadata": {},
   "source": [
    "Convolutional neural networks are routinely used to classify images. Here's a rudimentary workflow that can be used to classify faces. In this notebook, the images obtained from this challenge were used to classify them into three categories according to their ages.\n",
    "The dataset consists of images of people labelled with their ages. The typical images are frontal shots which contain the face of the person. Since we plan to classify images according to facial features, we isolate and crop out the image of the face and store it on the disk as a separate png file. These files are then used to train the network."
   ]
  },
  {
   "cell_type": "markdown",
   "metadata": {},
   "source": [
    "# 1. DATASET"
   ]
  },
  {
   "cell_type": "markdown",
   "metadata": {},
   "source": [
    "The dataset consists of 2476 labelled images from the CHALearn \"Looking at people\" dataset for the [\"Apparent age V2 (CVPR '16)\" challenge](http://chalearnlap.cvc.uab.es/dataset/19/description/)."
   ]
  },
  {
   "cell_type": "code",
   "execution_count": 2,
   "metadata": {},
   "outputs": [
    {
     "name": "stdout",
     "output_type": "stream",
     "text": [
      "<class 'pandas.core.frame.DataFrame'>\n",
      "RangeIndex: 4112 entries, 0 to 4111\n",
      "Data columns (total 3 columns):\n",
      "Filename    4112 non-null object\n",
      "Age         4112 non-null float32\n",
      "Std         4112 non-null float32\n",
      "dtypes: float32(2), object(1)\n",
      "memory usage: 64.4+ KB\n",
      "None\n"
     ]
    },
    {
     "data": {
      "text/plain": [
       "<matplotlib.axes._subplots.AxesSubplot at 0x7f93c62d78d0>"
      ]
     },
     "execution_count": 2,
     "metadata": {},
     "output_type": "execute_result"
    },
    {
     "data": {
      "image/png": "[encoded data removed]",
      "text/plain": [
       "<Figure size 432x288 with 1 Axes>"
      ]
     },
     "metadata": {
      "needs_background": "light"
     },
     "output_type": "display_data"
    }
   ],
   "source": [
    "import pandas as pd\n",
    "import numpy as np\n",
    "labels=pd.read_csv('train_gt.csv',sep=',',header=1,names=['Filename','Age','Std'], dtype={'Filename':str , 'Age':np.float32 , 'Std':np.float32 }  )\n",
    "#labels['Age_category'],agebins=pd.qcut(labels['Age'],3,labels=False,retbins=True)\n",
    "print(labels.info())\n",
    "labels['Age'].hist(bins=np.arange(0,90,2))"
   ]
  },
  {
   "cell_type": "markdown",
   "metadata": {},
   "source": [
    "Let's filter out the faces of adults since those look significantly similar than the children/teenagers."
   ]
  },
  {
   "cell_type": "code",
   "execution_count": 3,
   "metadata": {},
   "outputs": [
    {
     "name": "stdout",
     "output_type": "stream",
     "text": [
      "<class 'pandas.core.frame.DataFrame'>\n",
      "Int64Index: 3486 entries, 0 to 4111\n",
      "Data columns (total 3 columns):\n",
      "Filename    3486 non-null object\n",
      "Age         3486 non-null float32\n",
      "Std         3486 non-null float32\n",
      "dtypes: float32(2), object(1)\n",
      "memory usage: 81.7+ KB\n",
      "None\n"
     ]
    },
    {
     "data": {
      "text/plain": [
       "<matplotlib.axes._subplots.AxesSubplot at 0x7f93c615f908>"
      ]
     },
     "execution_count": 3,
     "metadata": {},
     "output_type": "execute_result"
    },
    {
     "data": {
      "image/png": "[encoded data removed]",
      "text/plain": [
       "<Figure size 432x288 with 1 Axes>"
      ]
     },
     "metadata": {
      "needs_background": "light"
     },
     "output_type": "display_data"
    }
   ],
   "source": [
    "labels_adults=labels.loc[labels['Age']>18.0]\n",
    "print(labels_adults.info())\n",
    "labels_adults['Age'].hist(bins=np.arange(18,90,2))"
   ]
  },
  {
   "cell_type": "markdown",
   "metadata": {},
   "source": [
    "### Let's sort the dataset into three equally sized groups by age"
   ]
  },
  {
   "cell_type": "code",
   "execution_count": 4,
   "metadata": {
    "collapsed": true
   },
   "outputs": [
    {
     "name": "stderr",
     "output_type": "stream",
     "text": [
      "/home/prasadb/miniconda3/envs/tf-graphViz/lib/python3.6/site-packages/ipykernel_launcher.py:1: SettingWithCopyWarning: \n",
      "A value is trying to be set on a copy of a slice from a DataFrame.\n",
      "Try using .loc[row_indexer,col_indexer] = value instead\n",
      "\n",
      "See the caveats in the documentation: http://pandas.pydata.org/pandas-docs/stable/user_guide/indexing.html#returning-a-view-versus-a-copy\n",
      "  \"\"\"Entry point for launching an IPython kernel.\n"
     ]
    }
   ],
   "source": [
    "labels_adults['Age_category'],agebins=pd.qcut(labels_adults['Age'],3,labels=False,retbins=True)"
   ]
  },
  {
   "cell_type": "code",
   "execution_count": 5,
   "metadata": {},
   "outputs": [
    {
     "name": "stdout",
     "output_type": "stream",
     "text": [
      "[18.04347801 26.22940254 36.25555547 89.15384674]\n"
     ]
    }
   ],
   "source": [
    "print(agebins)"
   ]
  },
  {
   "cell_type": "code",
   "execution_count": 6,
   "metadata": {},
   "outputs": [
    {
     "data": {
      "text/html": [
       "<div>\n",
       "<style scoped>\n",
       "    .dataframe tbody tr th:only-of-type {\n",
       "        vertical-align: middle;\n",
       "    }\n",
       "\n",
       "    .dataframe tbody tr th {\n",
       "        vertical-align: top;\n",
       "    }\n",
       "\n",
       "    .dataframe thead th {\n",
       "        text-align: right;\n",
       "    }\n",
       "</style>\n",
       "<table border=\"1\" class=\"dataframe\">\n",
       "  <thead>\n",
       "    <tr style=\"text-align: right;\">\n",
       "      <th></th>\n",
       "      <th>Filename</th>\n",
       "      <th>Age</th>\n",
       "      <th>Std</th>\n",
       "      <th>Age_category</th>\n",
       "    </tr>\n",
       "  </thead>\n",
       "  <tbody>\n",
       "    <tr>\n",
       "      <th>0</th>\n",
       "      <td>001060.jpg</td>\n",
       "      <td>35.462963</td>\n",
       "      <td>4.901674</td>\n",
       "      <td>1</td>\n",
       "    </tr>\n",
       "    <tr>\n",
       "      <th>1</th>\n",
       "      <td>003987.jpg</td>\n",
       "      <td>20.136364</td>\n",
       "      <td>3.671703</td>\n",
       "      <td>0</td>\n",
       "    </tr>\n",
       "    <tr>\n",
       "      <th>2</th>\n",
       "      <td>002290.jpg</td>\n",
       "      <td>68.538460</td>\n",
       "      <td>7.203440</td>\n",
       "      <td>2</td>\n",
       "    </tr>\n",
       "    <tr>\n",
       "      <th>3</th>\n",
       "      <td>001969.jpg</td>\n",
       "      <td>28.933332</td>\n",
       "      <td>6.702901</td>\n",
       "      <td>1</td>\n",
       "    </tr>\n",
       "    <tr>\n",
       "      <th>4</th>\n",
       "      <td>003617.jpg</td>\n",
       "      <td>24.928572</td>\n",
       "      <td>6.318502</td>\n",
       "      <td>0</td>\n",
       "    </tr>\n",
       "  </tbody>\n",
       "</table>\n",
       "</div>"
      ],
      "text/plain": [
       "     Filename        Age       Std  Age_category\n",
       "0  001060.jpg  35.462963  4.901674             1\n",
       "1  003987.jpg  20.136364  3.671703             0\n",
       "2  002290.jpg  68.538460  7.203440             2\n",
       "3  001969.jpg  28.933332  6.702901             1\n",
       "4  003617.jpg  24.928572  6.318502             0"
      ]
     },
     "execution_count": 6,
     "metadata": {},
     "output_type": "execute_result"
    }
   ],
   "source": [
    "labels_adults.head()"
   ]
  },
  {
   "cell_type": "markdown",
   "metadata": {},
   "source": [
    "## 2. Cropping out the face from the images\n",
    "\n",
    "We will be using the Haar Cascade filters available in openCV to filter out the face. This filter typically identifies a few parts of the image as the face. We choose the largest such part as the face."
   ]
  },
  {
   "cell_type": "code",
   "execution_count": 7,
   "metadata": {},
   "outputs": [],
   "source": [
    "import cv2\n",
    "cascPath=\"/home/prasadb/miniconda3/envs/tf-graphViz/lib/python3.6/site-packages/cv2/data/haarcascade_frontalface_default.xml\"\n",
    "eyePath=\"/home/prasadb/miniconda3/envs/tf-graphViz/lib/python3.6/site-packages/cv2/data/haarcascade_eye.xml\"\n",
    "smilePath=\"/home/prasadb/miniconda3/envs/tf-graphViz/lib/python3.6/site-packages/cv2/data/haarcascade_smile.xml\"\n",
    "\n",
    "faceCascade = cv2.CascadeClassifier(cascPath)\n",
    "eyeCascade = cv2.CascadeClassifier(eyePath)\n",
    "smileCascade = cv2.CascadeClassifier(smilePath)"
   ]
  },
  {
   "cell_type": "code",
   "execution_count": 8,
   "metadata": {},
   "outputs": [],
   "source": [
    "def calcarea(a):\n",
    "    return a[2]*a[3]"
   ]
  },
  {
   "cell_type": "code",
   "execution_count": 21,
   "metadata": {},
   "outputs": [],
   "source": [
    "!mkdir Faces\n",
    "!mkdir Faces/0\n",
    "!mkdir Faces/1\n",
    "!mkdir Faces/2"
   ]
  },
  {
   "cell_type": "code",
   "execution_count": 23,
   "metadata": {},
   "outputs": [
    {
     "name": "stdout",
     "output_type": "stream",
     "text": [
      "--------------------------------------------------\n",
      "343 Pandas(Index=343, Filename='001538.jpg', Age=32.82352828979492, Std=6.500998020172119, Age_category=1)\n",
      "343 (480, 321)\n",
      "255\n",
      "0\n",
      "--------------------------------------------------\n",
      "--------------------------------------------------\n",
      "419 Pandas(Index=419, Filename='003257.jpg', Age=27.585186004638672, Std=4.556452751159668, Age_category=1)\n",
      "419 (158, 135)\n",
      "255\n",
      "0\n",
      "--------------------------------------------------\n",
      "--------------------------------------------------\n",
      "579 Pandas(Index=579, Filename='001249.jpg', Age=25.91666603088379, Std=4.462031364440918, Age_category=0)\n",
      "579 (1175, 800)\n",
      "255\n",
      "0\n",
      "--------------------------------------------------\n",
      "-----Write Error----------------------------------\n",
      "579 Pandas(Index=579, Filename='001249.jpg', Age=25.91666603088379, Std=4.462031364440918, Age_category=0)\n",
      "Faces/0/579001249.png\n",
      "(0, 0)\n",
      "--------------------------------------------------\n",
      "986 Pandas(Index=986, Filename='002201.jpg', Age=35.26315689086914, Std=4.934754371643066, Age_category=1)\n",
      "986 (758, 569)\n",
      "255\n",
      "0\n",
      "--------------------------------------------------\n",
      "--------------------------------------------------\n",
      "1264 Pandas(Index=1264, Filename='001309.jpg', Age=24.538461685180664, Std=4.235661506652832, Age_category=0)\n",
      "1264 (1202, 800)\n",
      "255\n",
      "34\n",
      "--------------------------------------------------\n",
      "--------------------------------------------------\n",
      "1555 Pandas(Index=1555, Filename='001836.jpg', Age=46.81081008911133, Std=5.9540486335754395, Age_category=2)\n",
      "1555 (1188, 1000)\n",
      "255\n",
      "0\n",
      "--------------------------------------------------\n",
      "--------------------------------------------------\n",
      "2442 Pandas(Index=2442, Filename='001397.jpg', Age=48.30769348144531, Std=5.836023807525635, Age_category=2)\n",
      "2442 (1286, 1000)\n",
      "255\n",
      "0\n",
      "--------------------------------------------------\n",
      "--------------------------------------------------\n",
      "2920 Pandas(Index=2920, Filename='002538.jpg', Age=40.5, Std=8.580501556396484, Age_category=2)\n",
      "2920 (631, 481)\n",
      "255\n",
      "35\n",
      "--------------------------------------------------\n",
      "--------------------------------------------------\n",
      "3033 Pandas(Index=3033, Filename='002742.jpg', Age=59.53845977783203, Std=6.990272045135498, Age_category=2)\n",
      "3033 (540, 532)\n",
      "255\n",
      "56\n",
      "--------------------------------------------------\n",
      "--------------------------------------------------\n",
      "3092 Pandas(Index=3092, Filename='002659.jpg', Age=26.95833396911621, Std=5.556371688842773, Age_category=1)\n",
      "3092 (720, 652)\n",
      "255\n",
      "0\n",
      "--------------------------------------------------\n",
      "--------------------------------------------------\n",
      "3285 Pandas(Index=3285, Filename='002013.jpg', Age=20.156862258911133, Std=2.767971992492676, Age_category=0)\n",
      "3285 (250, 400)\n",
      "205\n",
      "3\n",
      "--------------------------------------------------\n",
      "--------------------------------------------------\n",
      "3408 Pandas(Index=3408, Filename='002077.jpg', Age=26.710525512695312, Std=6.00398063659668, Age_category=1)\n",
      "3408 (166, 166)\n",
      "255\n",
      "22\n",
      "--------------------------------------------------\n",
      "-----Write Error----------------------------------\n",
      "3408 Pandas(Index=3408, Filename='002077.jpg', Age=26.710525512695312, Std=6.00398063659668, Age_category=1)\n",
      "Faces/1/3408002077.png\n",
      "(0, 0)\n",
      "--------------------------------------------------\n",
      "3481 Pandas(Index=3481, Filename='003090.jpg', Age=37.46154022216797, Std=8.228611946105957, Age_category=2)\n",
      "3481 (645, 497)\n",
      "234\n",
      "10\n",
      "--------------------------------------------------\n",
      "-----Write Error----------------------------------\n",
      "3481 Pandas(Index=3481, Filename='003090.jpg', Age=37.46154022216797, Std=8.228611946105957, Age_category=2)\n",
      "Faces/2/3481003090.png\n",
      "(377, 0)\n"
     ]
    }
   ],
   "source": [
    "for ir in labels_adults.itertuples():\n",
    "    tempimage=cv2.imread(str('train/'+ ir[1]),cv2.IMREAD_ANYCOLOR | cv2.IMREAD_ANYDEPTH)\n",
    "    try:\n",
    "        gray_img = cv2.cvtColor(tempimage, cv2.COLOR_BGR2GRAY)#Image is converted to gray-scale for face detection\n",
    "    except: ## Discard image if it is already grayscale\n",
    "        print(str('--------------------------------------------------'))\n",
    "        print(str(ir[0])+' '+str(ir))\n",
    "        print(str(ir[0])+' '+str(tempimage.shape))\n",
    "        print(tempimage.max())\n",
    "        print(tempimage.min())\n",
    "        print(str('--------------------------------------------------'))\n",
    "\n",
    "    faces = faceCascade.detectMultiScale(gray_img,scaleFactor=1.1,minNeighbors=5,flags=cv2.CASCADE_SCALE_IMAGE)\n",
    "    #print(type(faces))\n",
    "    if( isinstance(faces,tuple)):\n",
    "        if(len(faces)==0):\n",
    "            continue ## No Faces detected\n",
    "        else:\n",
    "            maxA=0\n",
    "            face1=tempimage[faces[1]:faces[1]+faces[3],faces[0]:faces[0]+faces[2]]\n",
    "    else:\n",
    "        maxA = np.apply_along_axis(calcarea,1,faces).argmax()\n",
    "        face1=tempimage[faces[maxA][1]:faces[maxA][1]+faces[maxA][3],faces[maxA][0]:faces[maxA][0]+faces[maxA][2]]\n",
    "    filename=str('Faces/'+str(ir[4])+'/' +str(int(ir[0]))+ str(ir[1][0:-4]) + '.png' )\n",
    "    try:\n",
    "        cv2.imwrite(filename,face1)\n",
    "    except:\n",
    "        print(str('-----Write Error----------------------------------'))\n",
    "        print(str(ir[0])+' '+str(ir))\n",
    "        print(filename)\n",
    "        print(face1.shape)\n",
    "        "
   ]
  },
  {
   "cell_type": "markdown",
   "metadata": {},
   "source": [
    "## Repeating the same steps on validation data\n"
   ]
  },
  {
   "cell_type": "code",
   "execution_count": 24,
   "metadata": {},
   "outputs": [
    {
     "name": "stdout",
     "output_type": "stream",
     "text": [
      "<class 'pandas.core.frame.DataFrame'>\n",
      "RangeIndex: 4112 entries, 0 to 4111\n",
      "Data columns (total 3 columns):\n",
      "Filename    4112 non-null object\n",
      "Age         4112 non-null float32\n",
      "Std         4112 non-null float32\n",
      "dtypes: float32(2), object(1)\n",
      "memory usage: 64.4+ KB\n",
      "None\n"
     ]
    },
    {
     "data": {
      "text/plain": [
       "<matplotlib.axes._subplots.AxesSubplot at 0x7f9405defcc0>"
      ]
     },
     "execution_count": 24,
     "metadata": {},
     "output_type": "execute_result"
    },
    {
     "data": {
      "image/png": "[encoded data removed]",
      "text/plain": [
       "<Figure size 432x288 with 1 Axes>"
      ]
     },
     "metadata": {
      "needs_background": "light"
     },
     "output_type": "display_data"
    }
   ],
   "source": [
    "valid_labels=pd.read_csv('valid_gt.csv',sep=',',header=1,names=['Filename','Age','Std'], dtype={'Filename':str , 'Age':np.float32 , 'Std':np.float32 }  )\n",
    "#labels['Age_category'],agebins=pd.qcut(labels['Age'],3,labels=False,retbins=True)\n",
    "print(labels.info())\n",
    "valid_labels['Age'].hist(bins=np.arange(0,90,2))"
   ]
  },
  {
   "cell_type": "code",
   "execution_count": 25,
   "metadata": {},
   "outputs": [
    {
     "name": "stderr",
     "output_type": "stream",
     "text": [
      "/home/prasadb/miniconda3/envs/tf-graphViz/lib/python3.6/site-packages/ipykernel_launcher.py:11: SettingWithCopyWarning: \n",
      "A value is trying to be set on a copy of a slice from a DataFrame.\n",
      "Try using .loc[row_indexer,col_indexer] = value instead\n",
      "\n",
      "See the caveats in the documentation: http://pandas.pydata.org/pandas-docs/stable/user_guide/indexing.html#returning-a-view-versus-a-copy\n",
      "  # This is added back by InteractiveShellApp.init_path()\n"
     ]
    }
   ],
   "source": [
    "valid_labels_adults=valid_labels.loc[valid_labels['Age']>18.0]\n",
    "\n",
    "def sort_valid_labels(row):\n",
    "    if row['Age']<agebins[1]:\n",
    "        return 0\n",
    "    elif (row['Age']>= agebins[1]) and (row['Age']<agebins[2]):\n",
    "        return 1\n",
    "    elif (row['Age']>=agebins[2]):\n",
    "        return 2\n",
    "\n",
    "valid_labels_adults['Age_category']=valid_labels_adults.apply(sort_valid_labels,1)\n",
    "        "
   ]
  },
  {
   "cell_type": "code",
   "execution_count": 26,
   "metadata": {},
   "outputs": [
    {
     "data": {
      "text/html": [
       "<div>\n",
       "<style scoped>\n",
       "    .dataframe tbody tr th:only-of-type {\n",
       "        vertical-align: middle;\n",
       "    }\n",
       "\n",
       "    .dataframe tbody tr th {\n",
       "        vertical-align: top;\n",
       "    }\n",
       "\n",
       "    .dataframe thead th {\n",
       "        text-align: right;\n",
       "    }\n",
       "</style>\n",
       "<table border=\"1\" class=\"dataframe\">\n",
       "  <thead>\n",
       "    <tr style=\"text-align: right;\">\n",
       "      <th></th>\n",
       "      <th>Filename</th>\n",
       "      <th>Age</th>\n",
       "      <th>Std</th>\n",
       "      <th>Age_category</th>\n",
       "    </tr>\n",
       "  </thead>\n",
       "  <tbody>\n",
       "    <tr>\n",
       "      <th>1</th>\n",
       "      <td>004519.jpg</td>\n",
       "      <td>31.394737</td>\n",
       "      <td>5.598588</td>\n",
       "      <td>1</td>\n",
       "    </tr>\n",
       "    <tr>\n",
       "      <th>2</th>\n",
       "      <td>004997.jpg</td>\n",
       "      <td>39.250000</td>\n",
       "      <td>5.422341</td>\n",
       "      <td>2</td>\n",
       "    </tr>\n",
       "    <tr>\n",
       "      <th>3</th>\n",
       "      <td>004871.jpg</td>\n",
       "      <td>29.692308</td>\n",
       "      <td>5.566170</td>\n",
       "      <td>1</td>\n",
       "    </tr>\n",
       "    <tr>\n",
       "      <th>4</th>\n",
       "      <td>004839.jpg</td>\n",
       "      <td>28.117647</td>\n",
       "      <td>3.797043</td>\n",
       "      <td>1</td>\n",
       "    </tr>\n",
       "    <tr>\n",
       "      <th>5</th>\n",
       "      <td>004180.jpg</td>\n",
       "      <td>23.739130</td>\n",
       "      <td>2.591246</td>\n",
       "      <td>0</td>\n",
       "    </tr>\n",
       "  </tbody>\n",
       "</table>\n",
       "</div>"
      ],
      "text/plain": [
       "     Filename        Age       Std  Age_category\n",
       "1  004519.jpg  31.394737  5.598588             1\n",
       "2  004997.jpg  39.250000  5.422341             2\n",
       "3  004871.jpg  29.692308  5.566170             1\n",
       "4  004839.jpg  28.117647  3.797043             1\n",
       "5  004180.jpg  23.739130  2.591246             0"
      ]
     },
     "execution_count": 26,
     "metadata": {},
     "output_type": "execute_result"
    }
   ],
   "source": [
    "valid_labels_adults.head()"
   ]
  },
  {
   "cell_type": "code",
   "execution_count": 27,
   "metadata": {},
   "outputs": [],
   "source": [
    "!mkdir valid_Faces\n",
    "!mkdir valid_Faces/0\n",
    "!mkdir valid_Faces/1\n",
    "!mkdir valid_Faces/2"
   ]
  },
  {
   "cell_type": "code",
   "execution_count": 28,
   "metadata": {},
   "outputs": [
    {
     "name": "stdout",
     "output_type": "stream",
     "text": [
      "--------------------------------------------------\n",
      "247 Pandas(Index=247, Filename='004503.jpg', Age=21.365385055541992, Std=4.146494388580322, Age_category=0)\n",
      "247 (223, 144)\n",
      "255\n",
      "0\n",
      "--------------------------------------------------\n",
      "--------------------------------------------------\n",
      "753 Pandas(Index=753, Filename='004645.jpg', Age=43.54999923706055, Std=7.813290119171143, Age_category=2)\n",
      "753 (679, 523)\n",
      "255\n",
      "0\n",
      "--------------------------------------------------\n"
     ]
    }
   ],
   "source": [
    "for ir in valid_labels_adults.itertuples():\n",
    "    tempimage=cv2.imread(str('valid/'+ ir[1]),cv2.IMREAD_ANYCOLOR | cv2.IMREAD_ANYDEPTH)\n",
    "    try:\n",
    "        gray_img = cv2.cvtColor(tempimage, cv2.COLOR_BGR2GRAY)#Image is converted to gray-scale for face detection\n",
    "    except: ## Discard image if it is already grayscale\n",
    "        print(str('--------------------------------------------------'))\n",
    "        print(str(ir[0])+' '+str(ir))\n",
    "        print(str(ir[0])+' '+str(tempimage.shape))\n",
    "        print(tempimage.max())\n",
    "        print(tempimage.min())\n",
    "        print(str('--------------------------------------------------'))\n",
    "\n",
    "    faces = faceCascade.detectMultiScale(gray_img,scaleFactor=1.1,minNeighbors=5,flags=cv2.CASCADE_SCALE_IMAGE)\n",
    "    #print(type(faces))\n",
    "    if( isinstance(faces,tuple)):\n",
    "        if(len(faces)==0):\n",
    "            continue ## No Faces detected\n",
    "        else:\n",
    "            maxA=0\n",
    "            face1=tempimage[faces[1]:faces[1]+faces[3],faces[0]:faces[0]+faces[2]]\n",
    "    else:\n",
    "        maxA = np.apply_along_axis(calcarea,1,faces).argmax()\n",
    "        face1=tempimage[faces[maxA][1]:faces[maxA][1]+faces[maxA][3],faces[maxA][0]:faces[maxA][0]+faces[maxA][2]]\n",
    "    filename=str('valid_Faces/'+str(ir[4])+'/' +str(int(ir[0]))+ str(ir[1][0:-4]) + '.png' )\n",
    "    try:\n",
    "        cv2.imwrite(filename,face1)\n",
    "    except:\n",
    "        print(str('-----Write Error----------------------------------'))\n",
    "        print(str(ir[0])+' '+str(ir))\n",
    "        print(filename)\n",
    "        print(face1.shape)\n",
    "        "
   ]
  },
  {
   "cell_type": "code",
   "execution_count": 29,
   "metadata": {},
   "outputs": [
    {
     "name": "stdout",
     "output_type": "stream",
     "text": [
      "Folder 0 \n",
      "No. of Files: 1006\n",
      "Folder 1 \n",
      "No. of Files: 1038\n",
      "Folder 2 \n",
      "No. of Files: 1058\n"
     ]
    }
   ],
   "source": [
    "!for i in `seq 0 2` ; do echo -n \"Folder ${i} \\nNo. of Files: \" ; ls Faces/${i}/ | wc -l ; done"
   ]
  },
  {
   "cell_type": "code",
   "execution_count": null,
   "metadata": {},
   "outputs": [],
   "source": []
  }
 ],
 "metadata": {
  "kernelspec": {
   "display_name": "Python 3",
   "language": "python",
   "name": "python3"
  },
  "language_info": {
   "codemirror_mode": {
    "name": "ipython",
    "version": 3
   },
   "file_extension": ".py",
   "mimetype": "text/x-python",
   "name": "python",
   "nbconvert_exporter": "python",
   "pygments_lexer": "ipython3",
   "version": "3.6.7"
  }
 },
 "nbformat": 4,
 "nbformat_minor": 4
}
